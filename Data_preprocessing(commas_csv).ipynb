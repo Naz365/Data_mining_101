{
  "nbformat": 4,
  "nbformat_minor": 0,
  "metadata": {
    "colab": {
      "provenance": [],
      "include_colab_link": true
    },
    "kernelspec": {
      "name": "python3",
      "display_name": "Python 3"
    },
    "language_info": {
      "name": "python"
    }
  },
  "cells": [
    {
      "cell_type": "markdown",
      "metadata": {
        "id": "view-in-github",
        "colab_type": "text"
      },
      "source": [
        "<a href=\"https://colab.research.google.com/github/Naz365/dataMIning424/blob/master/Data_preprocessing(commas_csv).ipynb\" target=\"_parent\"><img src=\"https://colab.research.google.com/assets/colab-badge.svg\" alt=\"Open In Colab\"/></a>"
      ]
    },
    {
      "cell_type": "markdown",
      "source": [
        "**Import library**\n",
        ">\n",
        "To learn about pandas: https://www.w3schools.com/python/pandas/default.asp\n",
        "> \n",
        "https://pandas.pydata.org/"
      ],
      "metadata": {
        "id": "eVToAVDFcR24"
      }
    },
    {
      "cell_type": "code",
      "execution_count": null,
      "metadata": {
        "id": "2uNdiHZNPq3A"
      },
      "outputs": [],
      "source": [
        "#import library\n",
        "import pandas as pd"
      ]
    },
    {
      "cell_type": "markdown",
      "source": [
        "**Open the file and read the data**"
      ],
      "metadata": {
        "id": "SETCT3f4R-jq"
      }
    },
    {
      "cell_type": "code",
      "source": [
        "with open('iris.data') as f:\n",
        "  data=f.read()\n",
        "  #split the data when get a new line\n",
        "  data=data.split(\"\\n\")"
      ],
      "metadata": {
        "id": "nB6UP_KzREbI"
      },
      "execution_count": null,
      "outputs": []
    },
    {
      "cell_type": "code",
      "source": [
        "print(data)"
      ],
      "metadata": {
        "colab": {
          "base_uri": "https://localhost:8080/"
        },
        "id": "qyqncy7ZREel",
        "outputId": "6804c806-22a9-476c-f6f7-9cda39d9fd59"
      },
      "execution_count": null,
      "outputs": [
        {
          "output_type": "stream",
          "name": "stdout",
          "text": [
            "['5.1,3.5,1.4,0.2,Iris-setosa', '4.9,3.0,1.4,0.2,Iris-setosa', '4.7,3.2,1.3,0.2,Iris-setosa', '4.6,3.1,1.5,0.2,Iris-setosa', '5.0,3.6,1.4,0.2,Iris-setosa', '5.4,3.9,1.7,0.4,Iris-setosa', '4.6,3.4,1.4,0.3,Iris-setosa', '5.0,3.4,1.5,0.2,Iris-setosa', '4.4,2.9,1.4,0.2,Iris-setosa', '4.9,3.1,1.5,0.1,Iris-setosa', '5.4,3.7,1.5,0.2,Iris-setosa', '4.8,3.4,1.6,0.2,Iris-setosa', '4.8,3.0,1.4,0.1,Iris-setosa', '4.3,3.0,1.1,0.1,Iris-setosa', '5.8,4.0,1.2,0.2,Iris-setosa', '5.7,4.4,1.5,0.4,Iris-setosa', '5.4,3.9,1.3,0.4,Iris-setosa', '5.1,3.5,1.4,0.3,Iris-setosa', '5.7,3.8,1.7,0.3,Iris-setosa', '5.1,3.8,1.5,0.3,Iris-setosa', '5.4,3.4,1.7,0.2,Iris-setosa', '5.1,3.7,1.5,0.4,Iris-setosa', '4.6,3.6,1.0,0.2,Iris-setosa', '5.1,3.3,1.7,0.5,Iris-setosa', '4.8,3.4,1.9,0.2,Iris-setosa', '5.0,3.0,1.6,0.2,Iris-setosa', '5.0,3.4,1.6,0.4,Iris-setosa', '5.2,3.5,1.5,0.2,Iris-setosa', '5.2,3.4,1.4,0.2,Iris-setosa', '4.7,3.2,1.6,0.2,Iris-setosa', '4.8,3.1,1.6,0.2,Iris-setosa', '5.4,3.4,1.5,0.4,Iris-setosa', '5.2,4.1,1.5,0.1,Iris-setosa', '5.5,4.2,1.4,0.2,Iris-setosa', '4.9,3.1,1.5,0.1,Iris-setosa', '5.0,3.2,1.2,0.2,Iris-setosa', '5.5,3.5,1.3,0.2,Iris-setosa', '4.9,3.1,1.5,0.1,Iris-setosa', '4.4,3.0,1.3,0.2,Iris-setosa', '5.1,3.4,1.5,0.2,Iris-setosa', '5.0,3.5,1.3,0.3,Iris-setosa', '4.5,2.3,1.3,0.3,Iris-setosa', '4.4,3.2,1.3,0.2,Iris-setosa', '5.0,3.5,1.6,0.6,Iris-setosa', '5.1,3.8,1.9,0.4,Iris-setosa', '4.8,3.0,1.4,0.3,Iris-setosa', '5.1,3.8,1.6,0.2,Iris-setosa', '4.6,3.2,1.4,0.2,Iris-setosa', '5.3,3.7,1.5,0.2,Iris-setosa', '5.0,3.3,1.4,0.2,Iris-setosa', '7.0,3.2,4.7,1.4,Iris-versicolor', '6.4,3.2,4.5,1.5,Iris-versicolor', '6.9,3.1,4.9,1.5,Iris-versicolor', '5.5,2.3,4.0,1.3,Iris-versicolor', '6.5,2.8,4.6,1.5,Iris-versicolor', '5.7,2.8,4.5,1.3,Iris-versicolor', '6.3,3.3,4.7,1.6,Iris-versicolor', '4.9,2.4,3.3,1.0,Iris-versicolor', '6.6,2.9,4.6,1.3,Iris-versicolor', '5.2,2.7,3.9,1.4,Iris-versicolor', '5.0,2.0,3.5,1.0,Iris-versicolor', '5.9,3.0,4.2,1.5,Iris-versicolor', '6.0,2.2,4.0,1.0,Iris-versicolor', '6.1,2.9,4.7,1.4,Iris-versicolor', '5.6,2.9,3.6,1.3,Iris-versicolor', '6.7,3.1,4.4,1.4,Iris-versicolor', '5.6,3.0,4.5,1.5,Iris-versicolor', '5.8,2.7,4.1,1.0,Iris-versicolor', '6.2,2.2,4.5,1.5,Iris-versicolor', '5.6,2.5,3.9,1.1,Iris-versicolor', '5.9,3.2,4.8,1.8,Iris-versicolor', '6.1,2.8,4.0,1.3,Iris-versicolor', '6.3,2.5,4.9,1.5,Iris-versicolor', '6.1,2.8,4.7,1.2,Iris-versicolor', '6.4,2.9,4.3,1.3,Iris-versicolor', '6.6,3.0,4.4,1.4,Iris-versicolor', '6.8,2.8,4.8,1.4,Iris-versicolor', '6.7,3.0,5.0,1.7,Iris-versicolor', '6.0,2.9,4.5,1.5,Iris-versicolor', '5.7,2.6,3.5,1.0,Iris-versicolor', '5.5,2.4,3.8,1.1,Iris-versicolor', '5.5,2.4,3.7,1.0,Iris-versicolor', '5.8,2.7,3.9,1.2,Iris-versicolor', '6.0,2.7,5.1,1.6,Iris-versicolor', '5.4,3.0,4.5,1.5,Iris-versicolor', '6.0,3.4,4.5,1.6,Iris-versicolor', '6.7,3.1,4.7,1.5,Iris-versicolor', '6.3,2.3,4.4,1.3,Iris-versicolor', '5.6,3.0,4.1,1.3,Iris-versicolor', '5.5,2.5,4.0,1.3,Iris-versicolor', '5.5,2.6,4.4,1.2,Iris-versicolor', '6.1,3.0,4.6,1.4,Iris-versicolor', '5.8,2.6,4.0,1.2,Iris-versicolor', '5.0,2.3,3.3,1.0,Iris-versicolor', '5.6,2.7,4.2,1.3,Iris-versicolor', '5.7,3.0,4.2,1.2,Iris-versicolor', '5.7,2.9,4.2,1.3,Iris-versicolor', '6.2,2.9,4.3,1.3,Iris-versicolor', '5.1,2.5,3.0,1.1,Iris-versicolor', '5.7,2.8,4.1,1.3,Iris-versicolor', '6.3,3.3,6.0,2.5,Iris-virginica', '5.8,2.7,5.1,1.9,Iris-virginica', '7.1,3.0,5.9,2.1,Iris-virginica', '6.3,2.9,5.6,1.8,Iris-virginica', '6.5,3.0,5.8,2.2,Iris-virginica', '7.6,3.0,6.6,2.1,Iris-virginica', '4.9,2.5,4.5,1.7,Iris-virginica', '7.3,2.9,6.3,1.8,Iris-virginica', '6.7,2.5,5.8,1.8,Iris-virginica', '7.2,3.6,6.1,2.5,Iris-virginica', '6.5,3.2,5.1,2.0,Iris-virginica', '6.4,2.7,5.3,1.9,Iris-virginica', '6.8,3.0,5.5,2.1,Iris-virginica', '5.7,2.5,5.0,2.0,Iris-virginica', '5.8,2.8,5.1,2.4,Iris-virginica', '6.4,3.2,5.3,2.3,Iris-virginica', '6.5,3.0,5.5,1.8,Iris-virginica', '7.7,3.8,6.7,2.2,Iris-virginica', '7.7,2.6,6.9,2.3,Iris-virginica', '6.0,2.2,5.0,1.5,Iris-virginica', '6.9,3.2,5.7,2.3,Iris-virginica', '5.6,2.8,4.9,2.0,Iris-virginica', '7.7,2.8,6.7,2.0,Iris-virginica', '6.3,2.7,4.9,1.8,Iris-virginica', '6.7,3.3,5.7,2.1,Iris-virginica', '7.2,3.2,6.0,1.8,Iris-virginica', '6.2,2.8,4.8,1.8,Iris-virginica', '6.1,3.0,4.9,1.8,Iris-virginica', '6.4,2.8,5.6,2.1,Iris-virginica', '7.2,3.0,5.8,1.6,Iris-virginica', '7.4,2.8,6.1,1.9,Iris-virginica', '7.9,3.8,6.4,2.0,Iris-virginica', '6.4,2.8,5.6,2.2,Iris-virginica', '6.3,2.8,5.1,1.5,Iris-virginica', '6.1,2.6,5.6,1.4,Iris-virginica', '7.7,3.0,6.1,2.3,Iris-virginica', '6.3,3.4,5.6,2.4,Iris-virginica', '6.4,3.1,5.5,1.8,Iris-virginica', '6.0,3.0,4.8,1.8,Iris-virginica', '6.9,3.1,5.4,2.1,Iris-virginica', '6.7,3.1,5.6,2.4,Iris-virginica', '6.9,3.1,5.1,2.3,Iris-virginica', '5.8,2.7,5.1,1.9,Iris-virginica', '6.8,3.2,5.9,2.3,Iris-virginica', '6.7,3.3,5.7,2.5,Iris-virginica', '6.7,3.0,5.2,2.3,Iris-virginica', '6.3,2.5,5.0,1.9,Iris-virginica', '6.5,3.0,5.2,2.0,Iris-virginica', '6.2,3.4,5.4,2.3,Iris-virginica', '5.9,3.0,5.1,1.8,Iris-virginica', '', '']\n"
          ]
        }
      ]
    },
    {
      "cell_type": "code",
      "source": [
        "newData=[]\n",
        "for i in data:\n",
        "  newData.append(i.split(','))\n"
      ],
      "metadata": {
        "id": "GhgSo8i8R2z6"
      },
      "execution_count": null,
      "outputs": []
    },
    {
      "cell_type": "code",
      "source": [
        "newData"
      ],
      "metadata": {
        "id": "HWZZzl-RanNc"
      },
      "execution_count": null,
      "outputs": []
    },
    {
      "cell_type": "code",
      "source": [
        "newData[0][0]"
      ],
      "metadata": {
        "colab": {
          "base_uri": "https://localhost:8080/",
          "height": 35
        },
        "id": "7YiRf78PR45z",
        "outputId": "58010eb2-14c4-4304-ba6b-caa9dfa0fb4a"
      },
      "execution_count": null,
      "outputs": [
        {
          "output_type": "execute_result",
          "data": {
            "text/plain": [
              "'5.1'"
            ],
            "application/vnd.google.colaboratory.intrinsic+json": {
              "type": "string"
            }
          },
          "metadata": {},
          "execution_count": 10
        }
      ]
    },
    {
      "cell_type": "markdown",
      "source": [
        "**DataFrame is a data structure that organizes data into a 2-dimensional table of rows and columns**\n",
        "\n",
        "*To learn about Data Frame: https://www.w3schools.com/python/pandas/pandas_dataframes.asp*\n"
      ],
      "metadata": {
        "id": "Xr7I6OrjbSCh"
      }
    },
    {
      "cell_type": "code",
      "source": [
        "df=pd.DataFrame(newData,columns=[\"C1\",\"C2\",\"C3\",\"C4\",\"Type\"])"
      ],
      "metadata": {
        "id": "EI-ks7pMVj-c"
      },
      "execution_count": null,
      "outputs": []
    },
    {
      "cell_type": "code",
      "source": [
        "df"
      ],
      "metadata": {
        "colab": {
          "base_uri": "https://localhost:8080/",
          "height": 424
        },
        "id": "ItsrWWzybZML",
        "outputId": "ba47b759-d021-496a-ad04-3c2505f692a1"
      },
      "execution_count": null,
      "outputs": [
        {
          "output_type": "execute_result",
          "data": {
            "text/plain": [
              "      C1    C2    C3    C4            Type\n",
              "0    5.1   3.5   1.4   0.2     Iris-setosa\n",
              "1    4.9   3.0   1.4   0.2     Iris-setosa\n",
              "2    4.7   3.2   1.3   0.2     Iris-setosa\n",
              "3    4.6   3.1   1.5   0.2     Iris-setosa\n",
              "4    5.0   3.6   1.4   0.2     Iris-setosa\n",
              "..   ...   ...   ...   ...             ...\n",
              "147  6.5   3.0   5.2   2.0  Iris-virginica\n",
              "148  6.2   3.4   5.4   2.3  Iris-virginica\n",
              "149  5.9   3.0   5.1   1.8  Iris-virginica\n",
              "150       None  None  None            None\n",
              "151       None  None  None            None\n",
              "\n",
              "[152 rows x 5 columns]"
            ],
            "text/html": [
              "\n",
              "  <div id=\"df-5fb06179-cf60-4084-b549-f4ec1c2d6d65\">\n",
              "    <div class=\"colab-df-container\">\n",
              "      <div>\n",
              "<style scoped>\n",
              "    .dataframe tbody tr th:only-of-type {\n",
              "        vertical-align: middle;\n",
              "    }\n",
              "\n",
              "    .dataframe tbody tr th {\n",
              "        vertical-align: top;\n",
              "    }\n",
              "\n",
              "    .dataframe thead th {\n",
              "        text-align: right;\n",
              "    }\n",
              "</style>\n",
              "<table border=\"1\" class=\"dataframe\">\n",
              "  <thead>\n",
              "    <tr style=\"text-align: right;\">\n",
              "      <th></th>\n",
              "      <th>C1</th>\n",
              "      <th>C2</th>\n",
              "      <th>C3</th>\n",
              "      <th>C4</th>\n",
              "      <th>Type</th>\n",
              "    </tr>\n",
              "  </thead>\n",
              "  <tbody>\n",
              "    <tr>\n",
              "      <th>0</th>\n",
              "      <td>5.1</td>\n",
              "      <td>3.5</td>\n",
              "      <td>1.4</td>\n",
              "      <td>0.2</td>\n",
              "      <td>Iris-setosa</td>\n",
              "    </tr>\n",
              "    <tr>\n",
              "      <th>1</th>\n",
              "      <td>4.9</td>\n",
              "      <td>3.0</td>\n",
              "      <td>1.4</td>\n",
              "      <td>0.2</td>\n",
              "      <td>Iris-setosa</td>\n",
              "    </tr>\n",
              "    <tr>\n",
              "      <th>2</th>\n",
              "      <td>4.7</td>\n",
              "      <td>3.2</td>\n",
              "      <td>1.3</td>\n",
              "      <td>0.2</td>\n",
              "      <td>Iris-setosa</td>\n",
              "    </tr>\n",
              "    <tr>\n",
              "      <th>3</th>\n",
              "      <td>4.6</td>\n",
              "      <td>3.1</td>\n",
              "      <td>1.5</td>\n",
              "      <td>0.2</td>\n",
              "      <td>Iris-setosa</td>\n",
              "    </tr>\n",
              "    <tr>\n",
              "      <th>4</th>\n",
              "      <td>5.0</td>\n",
              "      <td>3.6</td>\n",
              "      <td>1.4</td>\n",
              "      <td>0.2</td>\n",
              "      <td>Iris-setosa</td>\n",
              "    </tr>\n",
              "    <tr>\n",
              "      <th>...</th>\n",
              "      <td>...</td>\n",
              "      <td>...</td>\n",
              "      <td>...</td>\n",
              "      <td>...</td>\n",
              "      <td>...</td>\n",
              "    </tr>\n",
              "    <tr>\n",
              "      <th>147</th>\n",
              "      <td>6.5</td>\n",
              "      <td>3.0</td>\n",
              "      <td>5.2</td>\n",
              "      <td>2.0</td>\n",
              "      <td>Iris-virginica</td>\n",
              "    </tr>\n",
              "    <tr>\n",
              "      <th>148</th>\n",
              "      <td>6.2</td>\n",
              "      <td>3.4</td>\n",
              "      <td>5.4</td>\n",
              "      <td>2.3</td>\n",
              "      <td>Iris-virginica</td>\n",
              "    </tr>\n",
              "    <tr>\n",
              "      <th>149</th>\n",
              "      <td>5.9</td>\n",
              "      <td>3.0</td>\n",
              "      <td>5.1</td>\n",
              "      <td>1.8</td>\n",
              "      <td>Iris-virginica</td>\n",
              "    </tr>\n",
              "    <tr>\n",
              "      <th>150</th>\n",
              "      <td></td>\n",
              "      <td>None</td>\n",
              "      <td>None</td>\n",
              "      <td>None</td>\n",
              "      <td>None</td>\n",
              "    </tr>\n",
              "    <tr>\n",
              "      <th>151</th>\n",
              "      <td></td>\n",
              "      <td>None</td>\n",
              "      <td>None</td>\n",
              "      <td>None</td>\n",
              "      <td>None</td>\n",
              "    </tr>\n",
              "  </tbody>\n",
              "</table>\n",
              "<p>152 rows × 5 columns</p>\n",
              "</div>\n",
              "      <button class=\"colab-df-convert\" onclick=\"convertToInteractive('df-5fb06179-cf60-4084-b549-f4ec1c2d6d65')\"\n",
              "              title=\"Convert this dataframe to an interactive table.\"\n",
              "              style=\"display:none;\">\n",
              "        \n",
              "  <svg xmlns=\"http://www.w3.org/2000/svg\" height=\"24px\"viewBox=\"0 0 24 24\"\n",
              "       width=\"24px\">\n",
              "    <path d=\"M0 0h24v24H0V0z\" fill=\"none\"/>\n",
              "    <path d=\"M18.56 5.44l.94 2.06.94-2.06 2.06-.94-2.06-.94-.94-2.06-.94 2.06-2.06.94zm-11 1L8.5 8.5l.94-2.06 2.06-.94-2.06-.94L8.5 2.5l-.94 2.06-2.06.94zm10 10l.94 2.06.94-2.06 2.06-.94-2.06-.94-.94-2.06-.94 2.06-2.06.94z\"/><path d=\"M17.41 7.96l-1.37-1.37c-.4-.4-.92-.59-1.43-.59-.52 0-1.04.2-1.43.59L10.3 9.45l-7.72 7.72c-.78.78-.78 2.05 0 2.83L4 21.41c.39.39.9.59 1.41.59.51 0 1.02-.2 1.41-.59l7.78-7.78 2.81-2.81c.8-.78.8-2.07 0-2.86zM5.41 20L4 18.59l7.72-7.72 1.47 1.35L5.41 20z\"/>\n",
              "  </svg>\n",
              "      </button>\n",
              "      \n",
              "  <style>\n",
              "    .colab-df-container {\n",
              "      display:flex;\n",
              "      flex-wrap:wrap;\n",
              "      gap: 12px;\n",
              "    }\n",
              "\n",
              "    .colab-df-convert {\n",
              "      background-color: #E8F0FE;\n",
              "      border: none;\n",
              "      border-radius: 50%;\n",
              "      cursor: pointer;\n",
              "      display: none;\n",
              "      fill: #1967D2;\n",
              "      height: 32px;\n",
              "      padding: 0 0 0 0;\n",
              "      width: 32px;\n",
              "    }\n",
              "\n",
              "    .colab-df-convert:hover {\n",
              "      background-color: #E2EBFA;\n",
              "      box-shadow: 0px 1px 2px rgba(60, 64, 67, 0.3), 0px 1px 3px 1px rgba(60, 64, 67, 0.15);\n",
              "      fill: #174EA6;\n",
              "    }\n",
              "\n",
              "    [theme=dark] .colab-df-convert {\n",
              "      background-color: #3B4455;\n",
              "      fill: #D2E3FC;\n",
              "    }\n",
              "\n",
              "    [theme=dark] .colab-df-convert:hover {\n",
              "      background-color: #434B5C;\n",
              "      box-shadow: 0px 1px 3px 1px rgba(0, 0, 0, 0.15);\n",
              "      filter: drop-shadow(0px 1px 2px rgba(0, 0, 0, 0.3));\n",
              "      fill: #FFFFFF;\n",
              "    }\n",
              "  </style>\n",
              "\n",
              "      <script>\n",
              "        const buttonEl =\n",
              "          document.querySelector('#df-5fb06179-cf60-4084-b549-f4ec1c2d6d65 button.colab-df-convert');\n",
              "        buttonEl.style.display =\n",
              "          google.colab.kernel.accessAllowed ? 'block' : 'none';\n",
              "\n",
              "        async function convertToInteractive(key) {\n",
              "          const element = document.querySelector('#df-5fb06179-cf60-4084-b549-f4ec1c2d6d65');\n",
              "          const dataTable =\n",
              "            await google.colab.kernel.invokeFunction('convertToInteractive',\n",
              "                                                     [key], {});\n",
              "          if (!dataTable) return;\n",
              "\n",
              "          const docLinkHtml = 'Like what you see? Visit the ' +\n",
              "            '<a target=\"_blank\" href=https://colab.research.google.com/notebooks/data_table.ipynb>data table notebook</a>'\n",
              "            + ' to learn more about interactive tables.';\n",
              "          element.innerHTML = '';\n",
              "          dataTable['output_type'] = 'display_data';\n",
              "          await google.colab.output.renderOutput(dataTable, element);\n",
              "          const docLink = document.createElement('div');\n",
              "          docLink.innerHTML = docLinkHtml;\n",
              "          element.appendChild(docLink);\n",
              "        }\n",
              "      </script>\n",
              "    </div>\n",
              "  </div>\n",
              "  "
            ]
          },
          "metadata": {},
          "execution_count": 12
        }
      ]
    },
    {
      "cell_type": "code",
      "source": [
        "df.to_csv(\"iris.csv\",index=False)"
      ],
      "metadata": {
        "id": "BmDy6ZMyYbNB"
      },
      "execution_count": null,
      "outputs": []
    }
  ]
}